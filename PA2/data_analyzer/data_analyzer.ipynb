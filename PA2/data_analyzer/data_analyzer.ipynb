{
 "cells": [
  {
   "cell_type": "code",
   "execution_count": null,
   "metadata": {
    "vscode": {
     "languageId": "plaintext"
    }
   },
   "outputs": [],
   "source": [
    "import json\n",
    "import numpy as np\n",
    "import matplotlib.pyplot as plt"
   ]
  },
  {
   "cell_type": "markdown",
   "metadata": {},
   "source": [
    "Import data, calculate percentiles, and plot them"
   ]
  },
  {
   "cell_type": "code",
   "execution_count": null,
   "metadata": {
    "vscode": {
     "languageId": "plaintext"
    }
   },
   "outputs": [],
   "source": [
    "id = \"1\"\n",
    "with open(id + \".json\", \"r\") as file:\n",
    "    data = list(json.load(file).values())\n",
    "counts = np.arange(1, len(sorted_data) + 1)\n",
    "\n",
    "p90 = np.percentile(data, 90)\n",
    "p95 = np.percentile(data, 95)\n",
    "\n",
    "plt.plot(counts, data)\n",
    "plt.axhline(y = p90)\n",
    "plt.axhline(y = p95)\n",
    "plt.show()"
   ]
  },
  {
   "cell_type": "markdown",
   "metadata": {},
   "source": [
    "Compute CDF and plot it"
   ]
  },
  {
   "cell_type": "code",
   "execution_count": null,
   "metadata": {
    "vscode": {
     "languageId": "plaintext"
    }
   },
   "outputs": [],
   "source": [
    "sorted_data = np.sort(data)\n",
    "probabilities = np.arange(1, len(sorted_data) + 1) / len(sorted_data)\n",
    "plt.plot(sorted_data, probabilities)\n",
    "plt.show()"
   ]
  }
 ],
 "metadata": {
  "language_info": {
   "name": "python"
  }
 },
 "nbformat": 4,
 "nbformat_minor": 2
}
